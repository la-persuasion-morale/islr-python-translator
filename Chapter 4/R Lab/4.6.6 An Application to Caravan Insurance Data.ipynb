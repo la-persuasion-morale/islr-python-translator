{
 "cells": [
  {
   "cell_type": "code",
   "execution_count": 190,
   "metadata": {},
   "outputs": [],
   "source": [
    "import numpy as np\n",
    "import pandas as pd\n",
    "import matplotlib.pyplot as plt\n",
    "import seaborn as sns\n",
    "%matplotlib inline"
   ]
  },
  {
   "cell_type": "code",
   "execution_count": 191,
   "metadata": {},
   "outputs": [],
   "source": [
    "Caravan = pd.read_csv(\"/Users/arpanganguli/Documents/Finance/ISLR/Datasets/Caravan.csv\", index_col = 'Unnamed: 0')"
   ]
  },
  {
   "cell_type": "code",
   "execution_count": 192,
   "metadata": {},
   "outputs": [
    {
     "data": {
      "text/html": [
       "<div>\n",
       "<style scoped>\n",
       "    .dataframe tbody tr th:only-of-type {\n",
       "        vertical-align: middle;\n",
       "    }\n",
       "\n",
       "    .dataframe tbody tr th {\n",
       "        vertical-align: top;\n",
       "    }\n",
       "\n",
       "    .dataframe thead th {\n",
       "        text-align: right;\n",
       "    }\n",
       "</style>\n",
       "<table border=\"1\" class=\"dataframe\">\n",
       "  <thead>\n",
       "    <tr style=\"text-align: right;\">\n",
       "      <th></th>\n",
       "      <th>MOSTYPE</th>\n",
       "      <th>MAANTHUI</th>\n",
       "      <th>MGEMOMV</th>\n",
       "      <th>MGEMLEEF</th>\n",
       "      <th>MOSHOOFD</th>\n",
       "      <th>MGODRK</th>\n",
       "      <th>MGODPR</th>\n",
       "      <th>MGODOV</th>\n",
       "      <th>MGODGE</th>\n",
       "      <th>MRELGE</th>\n",
       "      <th>...</th>\n",
       "      <th>APERSONG</th>\n",
       "      <th>AGEZONG</th>\n",
       "      <th>AWAOREG</th>\n",
       "      <th>ABRAND</th>\n",
       "      <th>AZEILPL</th>\n",
       "      <th>APLEZIER</th>\n",
       "      <th>AFIETS</th>\n",
       "      <th>AINBOED</th>\n",
       "      <th>ABYSTAND</th>\n",
       "      <th>Purchase</th>\n",
       "    </tr>\n",
       "  </thead>\n",
       "  <tbody>\n",
       "    <tr>\n",
       "      <th>1</th>\n",
       "      <td>33</td>\n",
       "      <td>1</td>\n",
       "      <td>3</td>\n",
       "      <td>2</td>\n",
       "      <td>8</td>\n",
       "      <td>0</td>\n",
       "      <td>5</td>\n",
       "      <td>1</td>\n",
       "      <td>3</td>\n",
       "      <td>7</td>\n",
       "      <td>...</td>\n",
       "      <td>0</td>\n",
       "      <td>0</td>\n",
       "      <td>0</td>\n",
       "      <td>1</td>\n",
       "      <td>0</td>\n",
       "      <td>0</td>\n",
       "      <td>0</td>\n",
       "      <td>0</td>\n",
       "      <td>0</td>\n",
       "      <td>No</td>\n",
       "    </tr>\n",
       "    <tr>\n",
       "      <th>2</th>\n",
       "      <td>37</td>\n",
       "      <td>1</td>\n",
       "      <td>2</td>\n",
       "      <td>2</td>\n",
       "      <td>8</td>\n",
       "      <td>1</td>\n",
       "      <td>4</td>\n",
       "      <td>1</td>\n",
       "      <td>4</td>\n",
       "      <td>6</td>\n",
       "      <td>...</td>\n",
       "      <td>0</td>\n",
       "      <td>0</td>\n",
       "      <td>0</td>\n",
       "      <td>1</td>\n",
       "      <td>0</td>\n",
       "      <td>0</td>\n",
       "      <td>0</td>\n",
       "      <td>0</td>\n",
       "      <td>0</td>\n",
       "      <td>No</td>\n",
       "    </tr>\n",
       "    <tr>\n",
       "      <th>3</th>\n",
       "      <td>37</td>\n",
       "      <td>1</td>\n",
       "      <td>2</td>\n",
       "      <td>2</td>\n",
       "      <td>8</td>\n",
       "      <td>0</td>\n",
       "      <td>4</td>\n",
       "      <td>2</td>\n",
       "      <td>4</td>\n",
       "      <td>3</td>\n",
       "      <td>...</td>\n",
       "      <td>0</td>\n",
       "      <td>0</td>\n",
       "      <td>0</td>\n",
       "      <td>1</td>\n",
       "      <td>0</td>\n",
       "      <td>0</td>\n",
       "      <td>0</td>\n",
       "      <td>0</td>\n",
       "      <td>0</td>\n",
       "      <td>No</td>\n",
       "    </tr>\n",
       "    <tr>\n",
       "      <th>4</th>\n",
       "      <td>9</td>\n",
       "      <td>1</td>\n",
       "      <td>3</td>\n",
       "      <td>3</td>\n",
       "      <td>3</td>\n",
       "      <td>2</td>\n",
       "      <td>3</td>\n",
       "      <td>2</td>\n",
       "      <td>4</td>\n",
       "      <td>5</td>\n",
       "      <td>...</td>\n",
       "      <td>0</td>\n",
       "      <td>0</td>\n",
       "      <td>0</td>\n",
       "      <td>1</td>\n",
       "      <td>0</td>\n",
       "      <td>0</td>\n",
       "      <td>0</td>\n",
       "      <td>0</td>\n",
       "      <td>0</td>\n",
       "      <td>No</td>\n",
       "    </tr>\n",
       "    <tr>\n",
       "      <th>5</th>\n",
       "      <td>40</td>\n",
       "      <td>1</td>\n",
       "      <td>4</td>\n",
       "      <td>2</td>\n",
       "      <td>10</td>\n",
       "      <td>1</td>\n",
       "      <td>4</td>\n",
       "      <td>1</td>\n",
       "      <td>4</td>\n",
       "      <td>7</td>\n",
       "      <td>...</td>\n",
       "      <td>0</td>\n",
       "      <td>0</td>\n",
       "      <td>0</td>\n",
       "      <td>1</td>\n",
       "      <td>0</td>\n",
       "      <td>0</td>\n",
       "      <td>0</td>\n",
       "      <td>0</td>\n",
       "      <td>0</td>\n",
       "      <td>No</td>\n",
       "    </tr>\n",
       "  </tbody>\n",
       "</table>\n",
       "<p>5 rows × 86 columns</p>\n",
       "</div>"
      ],
      "text/plain": [
       "   MOSTYPE  MAANTHUI  MGEMOMV  MGEMLEEF  MOSHOOFD  MGODRK  MGODPR  MGODOV  \\\n",
       "1       33         1        3         2         8       0       5       1   \n",
       "2       37         1        2         2         8       1       4       1   \n",
       "3       37         1        2         2         8       0       4       2   \n",
       "4        9         1        3         3         3       2       3       2   \n",
       "5       40         1        4         2        10       1       4       1   \n",
       "\n",
       "   MGODGE  MRELGE    ...     APERSONG  AGEZONG  AWAOREG  ABRAND  AZEILPL  \\\n",
       "1       3       7    ...            0        0        0       1        0   \n",
       "2       4       6    ...            0        0        0       1        0   \n",
       "3       4       3    ...            0        0        0       1        0   \n",
       "4       4       5    ...            0        0        0       1        0   \n",
       "5       4       7    ...            0        0        0       1        0   \n",
       "\n",
       "   APLEZIER  AFIETS  AINBOED  ABYSTAND  Purchase  \n",
       "1         0       0        0         0        No  \n",
       "2         0       0        0         0        No  \n",
       "3         0       0        0         0        No  \n",
       "4         0       0        0         0        No  \n",
       "5         0       0        0         0        No  \n",
       "\n",
       "[5 rows x 86 columns]"
      ]
     },
     "execution_count": 192,
     "metadata": {},
     "output_type": "execute_result"
    }
   ],
   "source": [
    "Caravan.head()"
   ]
  },
  {
   "cell_type": "code",
   "execution_count": 193,
   "metadata": {},
   "outputs": [
    {
     "name": "stdout",
     "output_type": "stream",
     "text": [
      "<class 'pandas.core.frame.DataFrame'>\n",
      "Int64Index: 5822 entries, 1 to 5822\n",
      "Data columns (total 86 columns):\n",
      "MOSTYPE     5822 non-null int64\n",
      "MAANTHUI    5822 non-null int64\n",
      "MGEMOMV     5822 non-null int64\n",
      "MGEMLEEF    5822 non-null int64\n",
      "MOSHOOFD    5822 non-null int64\n",
      "MGODRK      5822 non-null int64\n",
      "MGODPR      5822 non-null int64\n",
      "MGODOV      5822 non-null int64\n",
      "MGODGE      5822 non-null int64\n",
      "MRELGE      5822 non-null int64\n",
      "MRELSA      5822 non-null int64\n",
      "MRELOV      5822 non-null int64\n",
      "MFALLEEN    5822 non-null int64\n",
      "MFGEKIND    5822 non-null int64\n",
      "MFWEKIND    5822 non-null int64\n",
      "MOPLHOOG    5822 non-null int64\n",
      "MOPLMIDD    5822 non-null int64\n",
      "MOPLLAAG    5822 non-null int64\n",
      "MBERHOOG    5822 non-null int64\n",
      "MBERZELF    5822 non-null int64\n",
      "MBERBOER    5822 non-null int64\n",
      "MBERMIDD    5822 non-null int64\n",
      "MBERARBG    5822 non-null int64\n",
      "MBERARBO    5822 non-null int64\n",
      "MSKA        5822 non-null int64\n",
      "MSKB1       5822 non-null int64\n",
      "MSKB2       5822 non-null int64\n",
      "MSKC        5822 non-null int64\n",
      "MSKD        5822 non-null int64\n",
      "MHHUUR      5822 non-null int64\n",
      "MHKOOP      5822 non-null int64\n",
      "MAUT1       5822 non-null int64\n",
      "MAUT2       5822 non-null int64\n",
      "MAUT0       5822 non-null int64\n",
      "MZFONDS     5822 non-null int64\n",
      "MZPART      5822 non-null int64\n",
      "MINKM30     5822 non-null int64\n",
      "MINK3045    5822 non-null int64\n",
      "MINK4575    5822 non-null int64\n",
      "MINK7512    5822 non-null int64\n",
      "MINK123M    5822 non-null int64\n",
      "MINKGEM     5822 non-null int64\n",
      "MKOOPKLA    5822 non-null int64\n",
      "PWAPART     5822 non-null int64\n",
      "PWABEDR     5822 non-null int64\n",
      "PWALAND     5822 non-null int64\n",
      "PPERSAUT    5822 non-null int64\n",
      "PBESAUT     5822 non-null int64\n",
      "PMOTSCO     5822 non-null int64\n",
      "PVRAAUT     5822 non-null int64\n",
      "PAANHANG    5822 non-null int64\n",
      "PTRACTOR    5822 non-null int64\n",
      "PWERKT      5822 non-null int64\n",
      "PBROM       5822 non-null int64\n",
      "PLEVEN      5822 non-null int64\n",
      "PPERSONG    5822 non-null int64\n",
      "PGEZONG     5822 non-null int64\n",
      "PWAOREG     5822 non-null int64\n",
      "PBRAND      5822 non-null int64\n",
      "PZEILPL     5822 non-null int64\n",
      "PPLEZIER    5822 non-null int64\n",
      "PFIETS      5822 non-null int64\n",
      "PINBOED     5822 non-null int64\n",
      "PBYSTAND    5822 non-null int64\n",
      "AWAPART     5822 non-null int64\n",
      "AWABEDR     5822 non-null int64\n",
      "AWALAND     5822 non-null int64\n",
      "APERSAUT    5822 non-null int64\n",
      "ABESAUT     5822 non-null int64\n",
      "AMOTSCO     5822 non-null int64\n",
      "AVRAAUT     5822 non-null int64\n",
      "AAANHANG    5822 non-null int64\n",
      "ATRACTOR    5822 non-null int64\n",
      "AWERKT      5822 non-null int64\n",
      "ABROM       5822 non-null int64\n",
      "ALEVEN      5822 non-null int64\n",
      "APERSONG    5822 non-null int64\n",
      "AGEZONG     5822 non-null int64\n",
      "AWAOREG     5822 non-null int64\n",
      "ABRAND      5822 non-null int64\n",
      "AZEILPL     5822 non-null int64\n",
      "APLEZIER    5822 non-null int64\n",
      "AFIETS      5822 non-null int64\n",
      "AINBOED     5822 non-null int64\n",
      "ABYSTAND    5822 non-null int64\n",
      "Purchase    5822 non-null object\n",
      "dtypes: int64(85), object(1)\n",
      "memory usage: 3.9+ MB\n"
     ]
    }
   ],
   "source": [
    "Caravan.info()"
   ]
  },
  {
   "cell_type": "code",
   "execution_count": 194,
   "metadata": {},
   "outputs": [
    {
     "data": {
      "text/plain": [
       "No     5474\n",
       "Yes     348\n",
       "Name: Purchase, dtype: int64"
      ]
     },
     "execution_count": 194,
     "metadata": {},
     "output_type": "execute_result"
    }
   ],
   "source": [
    "Caravan['Purchase'].value_counts()"
   ]
  },
  {
   "cell_type": "code",
   "execution_count": 195,
   "metadata": {},
   "outputs": [
    {
     "name": "stdout",
     "output_type": "stream",
     "text": [
      "% of Yes's: 0.059773 \n"
     ]
    }
   ],
   "source": [
    "perc_yes = 348/5822\n",
    "print(\"%% of Yes's: %f \" % perc_yes)"
   ]
  },
  {
   "cell_type": "code",
   "execution_count": 196,
   "metadata": {},
   "outputs": [],
   "source": [
    "from sklearn.preprocessing import StandardScaler"
   ]
  },
  {
   "cell_type": "code",
   "execution_count": 198,
   "metadata": {},
   "outputs": [],
   "source": [
    "scaler = StandardScaler()\n",
    "scaler.fit(Caravan.drop(columns='Purchase', axis = 1).astype(float))\n",
    "scaled_features = scaler.transform(Caravan.drop(columns='Purchase', axis = 1).astype(float))"
   ]
  },
  {
   "cell_type": "code",
   "execution_count": 199,
   "metadata": {},
   "outputs": [],
   "source": [
    "df = pd.DataFrame(scaled_features, columns=Caravan.columns[:-1])"
   ]
  },
  {
   "cell_type": "code",
   "execution_count": 200,
   "metadata": {},
   "outputs": [
    {
     "data": {
      "text/html": [
       "<div>\n",
       "<style scoped>\n",
       "    .dataframe tbody tr th:only-of-type {\n",
       "        vertical-align: middle;\n",
       "    }\n",
       "\n",
       "    .dataframe tbody tr th {\n",
       "        vertical-align: top;\n",
       "    }\n",
       "\n",
       "    .dataframe thead th {\n",
       "        text-align: right;\n",
       "    }\n",
       "</style>\n",
       "<table border=\"1\" class=\"dataframe\">\n",
       "  <thead>\n",
       "    <tr style=\"text-align: right;\">\n",
       "      <th></th>\n",
       "      <th>MOSTYPE</th>\n",
       "      <th>MAANTHUI</th>\n",
       "      <th>MGEMOMV</th>\n",
       "      <th>MGEMLEEF</th>\n",
       "      <th>MOSHOOFD</th>\n",
       "      <th>MGODRK</th>\n",
       "      <th>MGODPR</th>\n",
       "      <th>MGODOV</th>\n",
       "      <th>MGODGE</th>\n",
       "      <th>MRELGE</th>\n",
       "      <th>...</th>\n",
       "      <th>ALEVEN</th>\n",
       "      <th>APERSONG</th>\n",
       "      <th>AGEZONG</th>\n",
       "      <th>AWAOREG</th>\n",
       "      <th>ABRAND</th>\n",
       "      <th>AZEILPL</th>\n",
       "      <th>APLEZIER</th>\n",
       "      <th>AFIETS</th>\n",
       "      <th>AINBOED</th>\n",
       "      <th>ABYSTAND</th>\n",
       "    </tr>\n",
       "  </thead>\n",
       "  <tbody>\n",
       "    <tr>\n",
       "      <th>0</th>\n",
       "      <td>0.680906</td>\n",
       "      <td>-0.27258</td>\n",
       "      <td>0.406697</td>\n",
       "      <td>-1.216964</td>\n",
       "      <td>0.779405</td>\n",
       "      <td>-0.694311</td>\n",
       "      <td>0.217444</td>\n",
       "      <td>-0.068711</td>\n",
       "      <td>-0.161816</td>\n",
       "      <td>0.427670</td>\n",
       "      <td>...</td>\n",
       "      <td>-0.20291</td>\n",
       "      <td>-0.073165</td>\n",
       "      <td>-0.081055</td>\n",
       "      <td>-0.05992</td>\n",
       "      <td>0.764971</td>\n",
       "      <td>-0.022706</td>\n",
       "      <td>-0.07365</td>\n",
       "      <td>-0.15062</td>\n",
       "      <td>-0.087348</td>\n",
       "      <td>-0.118816</td>\n",
       "    </tr>\n",
       "    <tr>\n",
       "      <th>1</th>\n",
       "      <td>0.992297</td>\n",
       "      <td>-0.27258</td>\n",
       "      <td>-0.859500</td>\n",
       "      <td>-1.216964</td>\n",
       "      <td>0.779405</td>\n",
       "      <td>0.302552</td>\n",
       "      <td>-0.365410</td>\n",
       "      <td>-0.068711</td>\n",
       "      <td>0.464159</td>\n",
       "      <td>-0.096077</td>\n",
       "      <td>...</td>\n",
       "      <td>-0.20291</td>\n",
       "      <td>-0.073165</td>\n",
       "      <td>-0.081055</td>\n",
       "      <td>-0.05992</td>\n",
       "      <td>0.764971</td>\n",
       "      <td>-0.022706</td>\n",
       "      <td>-0.07365</td>\n",
       "      <td>-0.15062</td>\n",
       "      <td>-0.087348</td>\n",
       "      <td>-0.118816</td>\n",
       "    </tr>\n",
       "    <tr>\n",
       "      <th>2</th>\n",
       "      <td>0.992297</td>\n",
       "      <td>-0.27258</td>\n",
       "      <td>-0.859500</td>\n",
       "      <td>-1.216964</td>\n",
       "      <td>0.779405</td>\n",
       "      <td>-0.694311</td>\n",
       "      <td>-0.365410</td>\n",
       "      <td>0.914172</td>\n",
       "      <td>0.464159</td>\n",
       "      <td>-1.667319</td>\n",
       "      <td>...</td>\n",
       "      <td>-0.20291</td>\n",
       "      <td>-0.073165</td>\n",
       "      <td>-0.081055</td>\n",
       "      <td>-0.05992</td>\n",
       "      <td>0.764971</td>\n",
       "      <td>-0.022706</td>\n",
       "      <td>-0.07365</td>\n",
       "      <td>-0.15062</td>\n",
       "      <td>-0.087348</td>\n",
       "      <td>-0.118816</td>\n",
       "    </tr>\n",
       "    <tr>\n",
       "      <th>3</th>\n",
       "      <td>-1.187437</td>\n",
       "      <td>-0.27258</td>\n",
       "      <td>0.406697</td>\n",
       "      <td>0.010755</td>\n",
       "      <td>-0.970980</td>\n",
       "      <td>1.299414</td>\n",
       "      <td>-0.948264</td>\n",
       "      <td>0.914172</td>\n",
       "      <td>0.464159</td>\n",
       "      <td>-0.619824</td>\n",
       "      <td>...</td>\n",
       "      <td>-0.20291</td>\n",
       "      <td>-0.073165</td>\n",
       "      <td>-0.081055</td>\n",
       "      <td>-0.05992</td>\n",
       "      <td>0.764971</td>\n",
       "      <td>-0.022706</td>\n",
       "      <td>-0.07365</td>\n",
       "      <td>-0.15062</td>\n",
       "      <td>-0.087348</td>\n",
       "      <td>-0.118816</td>\n",
       "    </tr>\n",
       "    <tr>\n",
       "      <th>4</th>\n",
       "      <td>1.225840</td>\n",
       "      <td>-0.27258</td>\n",
       "      <td>1.672893</td>\n",
       "      <td>-1.216964</td>\n",
       "      <td>1.479559</td>\n",
       "      <td>0.302552</td>\n",
       "      <td>-0.365410</td>\n",
       "      <td>-0.068711</td>\n",
       "      <td>0.464159</td>\n",
       "      <td>0.427670</td>\n",
       "      <td>...</td>\n",
       "      <td>-0.20291</td>\n",
       "      <td>-0.073165</td>\n",
       "      <td>-0.081055</td>\n",
       "      <td>-0.05992</td>\n",
       "      <td>0.764971</td>\n",
       "      <td>-0.022706</td>\n",
       "      <td>-0.07365</td>\n",
       "      <td>-0.15062</td>\n",
       "      <td>-0.087348</td>\n",
       "      <td>-0.118816</td>\n",
       "    </tr>\n",
       "  </tbody>\n",
       "</table>\n",
       "<p>5 rows × 85 columns</p>\n",
       "</div>"
      ],
      "text/plain": [
       "    MOSTYPE  MAANTHUI   MGEMOMV  MGEMLEEF  MOSHOOFD    MGODRK    MGODPR  \\\n",
       "0  0.680906  -0.27258  0.406697 -1.216964  0.779405 -0.694311  0.217444   \n",
       "1  0.992297  -0.27258 -0.859500 -1.216964  0.779405  0.302552 -0.365410   \n",
       "2  0.992297  -0.27258 -0.859500 -1.216964  0.779405 -0.694311 -0.365410   \n",
       "3 -1.187437  -0.27258  0.406697  0.010755 -0.970980  1.299414 -0.948264   \n",
       "4  1.225840  -0.27258  1.672893 -1.216964  1.479559  0.302552 -0.365410   \n",
       "\n",
       "     MGODOV    MGODGE    MRELGE    ...      ALEVEN  APERSONG   AGEZONG  \\\n",
       "0 -0.068711 -0.161816  0.427670    ...    -0.20291 -0.073165 -0.081055   \n",
       "1 -0.068711  0.464159 -0.096077    ...    -0.20291 -0.073165 -0.081055   \n",
       "2  0.914172  0.464159 -1.667319    ...    -0.20291 -0.073165 -0.081055   \n",
       "3  0.914172  0.464159 -0.619824    ...    -0.20291 -0.073165 -0.081055   \n",
       "4 -0.068711  0.464159  0.427670    ...    -0.20291 -0.073165 -0.081055   \n",
       "\n",
       "   AWAOREG    ABRAND   AZEILPL  APLEZIER   AFIETS   AINBOED  ABYSTAND  \n",
       "0 -0.05992  0.764971 -0.022706  -0.07365 -0.15062 -0.087348 -0.118816  \n",
       "1 -0.05992  0.764971 -0.022706  -0.07365 -0.15062 -0.087348 -0.118816  \n",
       "2 -0.05992  0.764971 -0.022706  -0.07365 -0.15062 -0.087348 -0.118816  \n",
       "3 -0.05992  0.764971 -0.022706  -0.07365 -0.15062 -0.087348 -0.118816  \n",
       "4 -0.05992  0.764971 -0.022706  -0.07365 -0.15062 -0.087348 -0.118816  \n",
       "\n",
       "[5 rows x 85 columns]"
      ]
     },
     "execution_count": 200,
     "metadata": {},
     "output_type": "execute_result"
    }
   ],
   "source": [
    "df.head()"
   ]
  },
  {
   "cell_type": "code",
   "execution_count": 201,
   "metadata": {},
   "outputs": [
    {
     "data": {
      "text/plain": [
       "[<matplotlib.lines.Line2D at 0x1c2234c320>,\n",
       " <matplotlib.lines.Line2D at 0x1c2234c470>]"
      ]
     },
     "execution_count": 201,
     "metadata": {},
     "output_type": "execute_result"
    },
    {
     "data": {
      "image/png": "[encoded data removed]",
      "text/plain": [
       "<Figure size 1800x720 with 1 Axes>"
      ]
     },
     "metadata": {},
     "output_type": "display_data"
    }
   ],
   "source": [
    "pf = pd.DataFrame()\n",
    "for i in Caravan.columns[:-1]:\n",
    "    pf = pf.append([Caravan[i].var()])\n",
    "\n",
    "\n",
    "plt.xkcd()\n",
    "plt.figure(figsize = (25, 10))\n",
    "plt.plot(pf.reset_index())"
   ]
  },
  {
   "cell_type": "code",
   "execution_count": 202,
   "metadata": {},
   "outputs": [
    {
     "data": {
      "text/plain": [
       "[<matplotlib.lines.Line2D at 0x1c22248f60>,\n",
       " <matplotlib.lines.Line2D at 0x1c220b7e80>]"
      ]
     },
     "execution_count": 202,
     "metadata": {},
     "output_type": "execute_result"
    },
    {
     "data": {
      "image/png": "[encoded data removed]",
      "text/plain": [
       "<Figure size 1800x720 with 1 Axes>"
      ]
     },
     "metadata": {},
     "output_type": "display_data"
    }
   ],
   "source": [
    "pf2 = pd.DataFrame()\n",
    "for i in df.columns:\n",
    "    pf2 = pf2.append([df[i].var()])\n",
    "\n",
    "\n",
    "plt.xkcd()\n",
    "plt.figure(figsize = (25, 10))\n",
    "plt.plot(pf2.reset_index())"
   ]
  },
  {
   "cell_type": "markdown",
   "metadata": {},
   "source": [
    "**As we can see, the variance is \"standardised\" at ~1.**"
   ]
  },
  {
   "cell_type": "code",
   "execution_count": 203,
   "metadata": {},
   "outputs": [],
   "source": [
    "from sklearn.model_selection import train_test_split"
   ]
  },
  {
   "cell_type": "code",
   "execution_count": 204,
   "metadata": {},
   "outputs": [],
   "source": [
    "X_train, X_test, y_train, y_test = train_test_split(scaled_features, Caravan.Purchase, test_size=0.171, random_state=42)"
   ]
  },
  {
   "cell_type": "code",
   "execution_count": 205,
   "metadata": {},
   "outputs": [],
   "source": [
    "from sklearn.neighbors import KNeighborsClassifier"
   ]
  },
  {
   "cell_type": "code",
   "execution_count": 206,
   "metadata": {},
   "outputs": [],
   "source": [
    "knn = KNeighborsClassifier(n_neighbors=1).fit(X_train, y_train)"
   ]
  },
  {
   "cell_type": "code",
   "execution_count": 207,
   "metadata": {},
   "outputs": [],
   "source": [
    "knn_pred = knn.predict(X_test)"
   ]
  },
  {
   "cell_type": "code",
   "execution_count": 208,
   "metadata": {},
   "outputs": [],
   "source": [
    "from sklearn.metrics import confusion_matrix, classification_report"
   ]
  },
  {
   "cell_type": "code",
   "execution_count": 209,
   "metadata": {},
   "outputs": [
    {
     "name": "stdout",
     "output_type": "stream",
     "text": [
      "[[863  66]\n",
      " [ 58   9]]\n"
     ]
    }
   ],
   "source": [
    "print(confusion_matrix(y_test, knn_pred))"
   ]
  },
  {
   "cell_type": "code",
   "execution_count": 210,
   "metadata": {},
   "outputs": [
    {
     "name": "stdout",
     "output_type": "stream",
     "text": [
      "              precision    recall  f1-score   support\n",
      "\n",
      "          No       0.94      0.93      0.93       929\n",
      "         Yes       0.12      0.13      0.13        67\n",
      "\n",
      "   micro avg       0.88      0.88      0.88       996\n",
      "   macro avg       0.53      0.53      0.53       996\n",
      "weighted avg       0.88      0.88      0.88       996\n",
      "\n"
     ]
    }
   ],
   "source": [
    "print(classification_report(y_test, knn_pred))"
   ]
  },
  {
   "cell_type": "code",
   "execution_count": 211,
   "metadata": {},
   "outputs": [],
   "source": [
    "knn3 = KNeighborsClassifier(n_neighbors=3).fit(X_train, y_train)"
   ]
  },
  {
   "cell_type": "code",
   "execution_count": 212,
   "metadata": {},
   "outputs": [],
   "source": [
    "knn3 = KNeighborsClassifier(n_neighbors=3).fit(X_train, y_train)"
   ]
  },
  {
   "cell_type": "code",
   "execution_count": 213,
   "metadata": {},
   "outputs": [],
   "source": [
    "knn3 = KNeighborsClassifier(n_neighbors=3).fit(X_train, y_train)"
   ]
  },
  {
   "cell_type": "code",
   "execution_count": 214,
   "metadata": {},
   "outputs": [],
   "source": [
    "knn3 = KNeighborsClassifier(n_neighbors=3).fit(X_train, y_train)"
   ]
  },
  {
   "cell_type": "code",
   "execution_count": 215,
   "metadata": {},
   "outputs": [],
   "source": [
    "knn5 = KNeighborsClassifier(n_neighbors=5).fit(X_train, y_train)"
   ]
  },
  {
   "cell_type": "code",
   "execution_count": 216,
   "metadata": {},
   "outputs": [],
   "source": [
    "knn5_pred = knn5.predict(X_test)"
   ]
  },
  {
   "cell_type": "code",
   "execution_count": 217,
   "metadata": {},
   "outputs": [
    {
     "name": "stdout",
     "output_type": "stream",
     "text": [
      "[[921   8]\n",
      " [ 65   2]]\n"
     ]
    }
   ],
   "source": [
    "print(confusion_matrix(y_test, knn5_pred))"
   ]
  },
  {
   "cell_type": "code",
   "execution_count": 218,
   "metadata": {},
   "outputs": [
    {
     "name": "stdout",
     "output_type": "stream",
     "text": [
      "              precision    recall  f1-score   support\n",
      "\n",
      "          No       0.93      0.99      0.96       929\n",
      "         Yes       0.20      0.03      0.05        67\n",
      "\n",
      "   micro avg       0.93      0.93      0.93       996\n",
      "   macro avg       0.57      0.51      0.51       996\n",
      "weighted avg       0.88      0.93      0.90       996\n",
      "\n"
     ]
    }
   ],
   "source": [
    "print(classification_report(y_test, knn5_pred))"
   ]
  },
  {
   "cell_type": "code",
   "execution_count": 219,
   "metadata": {},
   "outputs": [],
   "source": [
    "knn7 = KNeighborsClassifier(n_neighbors=7).fit(X_train, y_train)"
   ]
  },
  {
   "cell_type": "code",
   "execution_count": 220,
   "metadata": {},
   "outputs": [],
   "source": [
    "knn7_pred = knn7.predict(X_test)"
   ]
  },
  {
   "cell_type": "code",
   "execution_count": 221,
   "metadata": {},
   "outputs": [
    {
     "name": "stdout",
     "output_type": "stream",
     "text": [
      "[[928   1]\n",
      " [ 66   1]]\n"
     ]
    }
   ],
   "source": [
    "print(confusion_matrix(y_test, knn7_pred))"
   ]
  },
  {
   "cell_type": "code",
   "execution_count": 222,
   "metadata": {},
   "outputs": [
    {
     "name": "stdout",
     "output_type": "stream",
     "text": [
      "              precision    recall  f1-score   support\n",
      "\n",
      "          No       0.93      1.00      0.97       929\n",
      "         Yes       0.50      0.01      0.03        67\n",
      "\n",
      "   micro avg       0.93      0.93      0.93       996\n",
      "   macro avg       0.72      0.51      0.50       996\n",
      "weighted avg       0.90      0.93      0.90       996\n",
      "\n"
     ]
    }
   ],
   "source": [
    "print(classification_report(y_test, knn7_pred))"
   ]
  },
  {
   "cell_type": "markdown",
   "metadata": {},
   "source": [
    "**Logistic Regression**"
   ]
  },
  {
   "cell_type": "code",
   "execution_count": 223,
   "metadata": {},
   "outputs": [],
   "source": [
    "from sklearn.linear_model import LogisticRegression"
   ]
  },
  {
   "cell_type": "code",
   "execution_count": 225,
   "metadata": {},
   "outputs": [],
   "source": [
    "glmfits = LogisticRegression(solver='liblinear').fit(X_train, y_train)"
   ]
  },
  {
   "cell_type": "code",
   "execution_count": 226,
   "metadata": {},
   "outputs": [],
   "source": [
    "glmfits_pred = glmfits.predict(X_test)"
   ]
  },
  {
   "cell_type": "code",
   "execution_count": 227,
   "metadata": {},
   "outputs": [],
   "source": [
    "glmfits_pred = glmfits.predict(X_test)"
   ]
  },
  {
   "cell_type": "code",
   "execution_count": 228,
   "metadata": {},
   "outputs": [
    {
     "name": "stdout",
     "output_type": "stream",
     "text": [
      "              precision    recall  f1-score   support\n",
      "\n",
      "          No       0.93      1.00      0.96       929\n",
      "         Yes       0.00      0.00      0.00        67\n",
      "\n",
      "   micro avg       0.93      0.93      0.93       996\n",
      "   macro avg       0.47      0.50      0.48       996\n",
      "weighted avg       0.87      0.93      0.90       996\n",
      "\n"
     ]
    }
   ],
   "source": [
    "print(classification_report(y_test, glmfits_pred))"
   ]
  }
 ],
 "metadata": {
  "kernelspec": {
   "display_name": "Python 3",
   "language": "python",
   "name": "python3"
  },
  "language_info": {
   "codemirror_mode": {
    "name": "ipython",
    "version": 3
   },
   "file_extension": ".py",
   "mimetype": "text/x-python",
   "name": "python",
   "nbconvert_exporter": "python",
   "pygments_lexer": "ipython3",
   "version": "3.6.6"
  }
 },
 "nbformat": 4,
 "nbformat_minor": 2
}
